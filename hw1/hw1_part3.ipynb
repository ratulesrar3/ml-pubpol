{
 "cells": [
  {
   "cell_type": "markdown",
   "metadata": {},
   "source": [
    "## MLPP HW1 - Diagnostic - Part 3"
   ]
  },
  {
   "cell_type": "markdown",
   "metadata": {},
   "source": [
    "### Naive 311 Predictions"
   ]
  },
  {
   "cell_type": "code",
   "execution_count": 1,
   "metadata": {},
   "outputs": [],
   "source": [
    "import warnings\n",
    "warnings.simplefilter('ignore')\n",
    "\n",
    "%run helper.py\n",
    "%matplotlib inline"
   ]
  },
  {
   "cell_type": "code",
   "execution_count": 2,
   "metadata": {},
   "outputs": [],
   "source": [
    "# load datasets\n",
    "buildings = pd.read_pickle('vacant_buildings_17.pkl')\n",
    "graffiti = pd.read_pickle('graffiti_17.pkl')\n",
    "lights = pd.read_pickle('alley_lights_17.pkl')"
   ]
  },
  {
   "cell_type": "code",
   "execution_count": 3,
   "metadata": {},
   "outputs": [],
   "source": [
    "# drop non-meaningful values\n",
    "buildings = drop_if(buildings, col_list=['Ward', 'ZIP CODE', 'Police District', 'Community Area'])\n",
    "graffiti = drop_if(graffiti)\n",
    "lights = drop_if(lights)\n",
    "buildings = combine_address(buildings)"
   ]
  },
  {
   "cell_type": "code",
   "execution_count": 4,
   "metadata": {},
   "outputs": [
    {
     "name": "stdout",
     "output_type": "stream",
     "text": [
      "Prob of Vacant Building Request: 0.0\n",
      "Prob of Graffiti Removal Request: 0.0\n",
      "Prob of Out Alley Light Request: 0.0\n"
     ]
    }
   ],
   "source": [
    "# Check for address\n",
    "b_prob = search_by(buildings, 'Street Address', '3600 W Roosevelt Ave')\n",
    "g_prob = search_by(graffiti, 'Street Address', '3600 W Roosevelt Ave')\n",
    "l_prob = search_by(lights, 'Street Address', '3600 W Roosevelt Ave')\n",
    "\n",
    "print('Prob of Vacant Building Request: {}'.format(b_prob))\n",
    "print('Prob of Graffiti Removal Request: {}'.format(g_prob))\n",
    "print('Prob of Out Alley Light Request: {}'.format(l_prob))"
   ]
  },
  {
   "cell_type": "markdown",
   "metadata": {},
   "source": [
    "I didn't find the address in the datasets, so I will take a step up and look at the zip code for this address, which is 60624. "
   ]
  },
  {
   "cell_type": "code",
   "execution_count": 5,
   "metadata": {},
   "outputs": [
    {
     "name": "stdout",
     "output_type": "stream",
     "text": [
      "Prob of Vacant Building Request: 0.039836289222373804\n",
      "Prob of Graffiti Removal Request: 0.0027585350493609245\n",
      "Prob of Out Alley Light Request: 0.021945709470362534\n"
     ]
    }
   ],
   "source": [
    "b_prob = search_by(buildings, 'ZIP CODE', '60624')\n",
    "g_prob = search_by(graffiti, 'ZIP Code', '60624')\n",
    "l_prob = search_by(lights, 'ZIP Code', '60624')\n",
    "\n",
    "print('Prob of Vacant Building Request: {}'.format(b_prob))\n",
    "print('Prob of Graffiti Removal Request: {}'.format(g_prob))\n",
    "print('Prob of Out Alley Light Request: {}'.format(l_prob))"
   ]
  },
  {
   "cell_type": "markdown",
   "metadata": {},
   "source": [
    "Based on the zip code, it seems most likely that a request came in about a vacant or abandoned building for 3600 W Roosevelt. It seems least likely that the request was for graffiti removal."
   ]
  },
  {
   "cell_type": "code",
   "execution_count": 6,
   "metadata": {},
   "outputs": [
    {
     "name": "stdout",
     "output_type": "stream",
     "text": [
      "Uptown prob: 0.045413824606842235\n",
      "Garfield Park prob: 0.020054815905482477\n",
      "Difference: 0.025359008701359757\n"
     ]
    }
   ],
   "source": [
    "# check for graffiti requests from uptown and garfield park\n",
    "g_uptown = search_by(graffiti, 'ZIP Code', '60640|60613')\n",
    "g_garfieldpark = search_by(graffiti, 'ZIP Code', '60612|60624')\n",
    "\n",
    "print('Uptown prob: {}'.format(g_uptown))\n",
    "print('Garfield Park prob: {}'.format(g_garfieldpark))\n",
    "print('Difference: {}'.format(g_uptown - g_garfieldpark))"
   ]
  },
  {
   "cell_type": "markdown",
   "metadata": {},
   "source": [
    "Based on the number of requests from these areas in 2017, it seems 2.5% more likely that a graffiti removal request came from uptown."
   ]
  },
  {
   "cell_type": "code",
   "execution_count": 7,
   "metadata": {},
   "outputs": [
    {
     "name": "stdout",
     "output_type": "stream",
     "text": [
      "Uptown prob: 0.6153846153846155\n",
      "Garfield Park prob: 0.3846153846153846\n",
      "Difference: 0.23076923076923095\n"
     ]
    }
   ],
   "source": [
    "up = 400/1000\n",
    "gp = 600/1000\n",
    "\n",
    "up_g = 160/400\n",
    "gp_g = 100/600\n",
    "\n",
    "up_prob = (up*up_g) / ((gp*gp_g) + (up*up_g))\n",
    "gp_prob = (gp*gp_g) / ((gp*gp_g) + (up*up_g))\n",
    "\n",
    "print('Uptown prob: {}'.format(up_prob))\n",
    "print('Garfield Park prob: {}'.format(gp_prob))\n",
    "print('Difference: {}'.format(up_prob - gp_prob))"
   ]
  },
  {
   "cell_type": "markdown",
   "metadata": {},
   "source": [
    "Based on these numbers, it seems 23% more likely that a graffiti removal request came from uptown. "
   ]
  }
 ],
 "metadata": {
  "kernelspec": {
   "display_name": "Python [default]",
   "language": "python",
   "name": "python3"
  },
  "language_info": {
   "codemirror_mode": {
    "name": "ipython",
    "version": 3
   },
   "file_extension": ".py",
   "mimetype": "text/x-python",
   "name": "python",
   "nbconvert_exporter": "python",
   "pygments_lexer": "ipython3",
   "version": "3.5.2"
  }
 },
 "nbformat": 4,
 "nbformat_minor": 2
}
