{
 "cells": [
  {
   "cell_type": "markdown",
   "metadata": {},
   "source": [
    "## MLPP HW1 - Diagnostic - Part 3"
   ]
  },
  {
   "cell_type": "markdown",
   "metadata": {},
   "source": [
    "### Naive 311 Predictions"
   ]
  },
  {
   "cell_type": "code",
   "execution_count": 1,
   "metadata": {},
   "outputs": [],
   "source": [
    "import warnings\n",
    "warnings.simplefilter('ignore')\n",
    "\n",
    "%run helper.py\n",
    "%matplotlib inline"
   ]
  },
  {
   "cell_type": "code",
   "execution_count": 2,
   "metadata": {},
   "outputs": [],
   "source": [
    "buildings = pd.read_pickle('vacant_buildings_17.pkl')\n",
    "graffiti = pd.read_pickle('graffiti_17.pkl')\n",
    "lights = pd.read_pickle('alley_lights_17.pkl')"
   ]
  },
  {
   "cell_type": "code",
   "execution_count": 3,
   "metadata": {},
   "outputs": [],
   "source": [
    "buildings = drop_if(buildings, col_list=['Ward', 'ZIP CODE', 'Police District', 'Community Area'])\n",
    "graffiti = drop_if(graffiti)\n",
    "lights = drop_if(lights)"
   ]
  },
  {
   "cell_type": "code",
   "execution_count": 14,
   "metadata": {},
   "outputs": [
    {
     "data": {
      "text/plain": [
       "Index(['SERVICE REQUEST TYPE', 'SERVICE REQUEST NUMBER',\n",
       "       'DATE SERVICE REQUEST WAS RECEIVED',\n",
       "       'LOCATION OF BUILDING ON THE LOT (IF GARAGE, CHANGE TYPE CODE TO BGD).',\n",
       "       'IS THE BUILDING DANGEROUS OR HAZARDOUS?',\n",
       "       'IS BUILDING OPEN OR BOARDED?',\n",
       "       'IF THE BUILDING IS OPEN, WHERE IS THE ENTRY POINT?',\n",
       "       'IS THE BUILDING CURRENTLY VACANT OR OCCUPIED?',\n",
       "       'IS THE BUILDING VACANT DUE TO FIRE?',\n",
       "       'ANY PEOPLE USING PROPERTY? (HOMELESS, CHILDEN, GANGS)',\n",
       "       'ADDRESS STREET NUMBER', 'ADDRESS STREET DIRECTION',\n",
       "       'ADDRESS STREET NAME', 'ADDRESS STREET SUFFIX', 'ZIP CODE',\n",
       "       'X COORDINATE', 'Y COORDINATE', 'Ward', 'Police District',\n",
       "       'Community Area', 'LATITUDE', 'LONGITUDE', 'Location', 'date'],\n",
       "      dtype='object')"
      ]
     },
     "execution_count": 14,
     "metadata": {},
     "output_type": "execute_result"
    }
   ],
   "source": [
    "buildings.columns"
   ]
  },
  {
   "cell_type": "code",
   "execution_count": 9,
   "metadata": {},
   "outputs": [],
   "source": [
    "def search_by(df, col='Street Address', by='3600 W Roosevelt Ave'):\n",
    "    '''\n",
    "    Searches df[col] for term to return proportion of requests from that area\n",
    "    '''\n",
    "    df[col] = df[col].astype(str)\n",
    "    df_filter = df[df[col].str.contains(by, case=False)]\n",
    "    return len(df_filter) / len(df)"
   ]
  },
  {
   "cell_type": "code",
   "execution_count": 12,
   "metadata": {},
   "outputs": [
    {
     "data": {
      "text/plain": [
       "0.013303689891347222"
      ]
     },
     "execution_count": 12,
     "metadata": {},
     "output_type": "execute_result"
    }
   ],
   "source": [
    "search_by(lights, 'ZIP Code', '60640|60613')"
   ]
  },
  {
   "cell_type": "code",
   "execution_count": null,
   "metadata": {},
   "outputs": [],
   "source": []
  }
 ],
 "metadata": {
  "kernelspec": {
   "display_name": "Python [default]",
   "language": "python",
   "name": "python3"
  },
  "language_info": {
   "codemirror_mode": {
    "name": "ipython",
    "version": 3
   },
   "file_extension": ".py",
   "mimetype": "text/x-python",
   "name": "python",
   "nbconvert_exporter": "python",
   "pygments_lexer": "ipython3",
   "version": "3.5.2"
  }
 },
 "nbformat": 4,
 "nbformat_minor": 2
}
