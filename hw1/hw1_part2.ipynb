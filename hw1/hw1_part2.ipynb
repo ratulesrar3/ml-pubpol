{
 "cells": [
  {
   "cell_type": "markdown",
   "metadata": {},
   "source": [
    "## MLPP HW1 - Diagnostic - Part 2"
   ]
  },
  {
   "cell_type": "markdown",
   "metadata": {},
   "source": [
    "### Data Augmentation using ACS API"
   ]
  },
  {
   "cell_type": "code",
   "execution_count": 1,
   "metadata": {},
   "outputs": [],
   "source": [
    "import numpy as np\n",
    "import pandas as pd\n",
    "import matplotlib.pyplot as plt\n",
    "import seaborn as sns\n",
    "from datetime import datetime\n",
    "import requests\n",
    "import json\n",
    "from urllib.request import urlopen\n",
    "import warnings\n",
    "warnings.simplefilter('ignore')\n",
    "\n",
    "%matplotlib inline"
   ]
  },
  {
   "cell_type": "code",
   "execution_count": 2,
   "metadata": {},
   "outputs": [],
   "source": [
    "def three_months(filename, date_col='Creation Date', start='09/30/2017', end='01/01/2018'):\n",
    "    '''\n",
    "    Loads data from pickle file and returns filtered df based on date\n",
    "    '''\n",
    "    df = pd.read_pickle(filename)\n",
    "    start = datetime.strptime(start, '%m/%d/%Y')\n",
    "    end = datetime.strptime(end, '%m/%d/%Y')\n",
    "    df['date'] = pd.to_datetime(df[date_col], format='%m/%d/%Y')\n",
    "    df = df[(df['date'] > start) & (df['date'] < end)]\n",
    "    \n",
    "    return df"
   ]
  },
  {
   "cell_type": "code",
   "execution_count": 3,
   "metadata": {},
   "outputs": [],
   "source": [
    "def get_census_block(lat, long):\n",
    "    '''\n",
    "    Given a latitude and longitude, find the corresponding FIPS code\n",
    "    '''\n",
    "    FIPS_url = 'https://geo.fcc.gov/api/census/block/find?latitude={}&longitude={}&showall=true&format=json'.format(str(lat),str(long))\n",
    "    try:\n",
    "        response = urlopen(FIPS_url)\n",
    "        FIPS = response.read().decode('utf-8')\n",
    "        FIPS = json.loads(FIPS)\n",
    "        return FIPS['Block']['FIPS']\n",
    "    except:\n",
    "        print(FIPS_url)"
   ]
  },
  {
   "cell_type": "code",
   "execution_count": 4,
   "metadata": {},
   "outputs": [],
   "source": [
    "def scrape_fips_blocks(df, lat='Latitude', lon='Longitude'):\n",
    "    '''\n",
    "    Append fips block numbers to each request in a df\n",
    "    '''\n",
    "    blocks = []\n",
    "    for index, row in df.iterrows():\n",
    "        x = row[lat]\n",
    "        y = row[lon]\n",
    "        blocks.append(get_census_block(x, y))\n",
    "    df['FIPS_BLOCK_NUMBER'] = pd.Series(blocks, index=df.index)\n",
    "    return df"
   ]
  },
  {
   "cell_type": "code",
   "execution_count": 5,
   "metadata": {},
   "outputs": [],
   "source": [
    "def scrape(df):\n",
    "    '''\n",
    "    Function that retrieves the INCOME AND BENEFITS (IN 2015 INFLATION-ADJUSTED DOLLARS)\n",
    "    '''\n",
    "    avg_income_list = []\n",
    "    avg_family_size = []\n",
    "    pct_white = []\n",
    "    health_coverage = []\n",
    "    unemployment = []\n",
    "    for index, row in df.iterrows():\n",
    "        state = row['FIPS_BLOCK_NUMBER'][0:2]\n",
    "        county = row['FIPS_BLOCK_NUMBER'][2:5]\n",
    "        tract = row['FIPS_BLOCK_NUMBER'][5:11]\n",
    "        query = 'get=NAME,DP03_0051E,DP02_0016E,DP05_0032E,DP03_0096PE,DP03_0005PE&for=tract:{}&in=state:{}+county:{}&'.format(tract, state, county)\n",
    "        key = 'key=02483eaf62001ddc247c04dc50cfa681d83bce62'\n",
    "        url = 'https://api.census.gov/data/2015/acs5/profile?'+query+key\n",
    "        r = requests.get(url)\n",
    "        if r.status_code != 204: # 204 corresponds to no content.\n",
    "            json = r.json()\n",
    "            if json[1][1] is not '-':\n",
    "                avg_income_list.append(int(json[1][1]))\n",
    "            else:\n",
    "                avg_income_list.append(np.nan)\n",
    "            if json[1][2] is not '-':\n",
    "                avg_family_size.append(float(json[1][2]))\n",
    "            else:\n",
    "                avg_family_size.append(np.nan)\n",
    "            if json[1][3] is not '-':\n",
    "                pct_white.append(float(json[1][3]))\n",
    "            else:\n",
    "                pct_white.append(np.nan)\n",
    "            if json[1][4] is not '-':\n",
    "                health_coverage.append(float(json[1][4]))\n",
    "            else:\n",
    "                health_coverage.append(np.nan)\n",
    "            if json[1][5] is not '-':\n",
    "                unemployment.append(float(json[1][5]))\n",
    "            else:\n",
    "                unemployment.append(np.nan)\n",
    "    df['avg_monthly_income'] = pd.Series(avg_income_list, index=df.index)\n",
    "    df['avg_family_size'] = pd.Series(avg_family_size, index=df.index)\n",
    "    df['pct_white'] = pd.Series(pct_white, index=df.index)\n",
    "    df['pct_health_coverage'] = pd.Series(health_coverage, index=df.index)\n",
    "    df['unemployment_rate'] = pd.Series(unemployment, index=df.index)\n",
    "    return df"
   ]
  },
  {
   "cell_type": "code",
   "execution_count": 6,
   "metadata": {},
   "outputs": [],
   "source": [
    "#buildings = three_months('vacant_buildings_17.pkl', 'DATE SERVICE REQUEST WAS RECEIVED')\n",
    "#lights = three_months('alley_lights_17.pkl')\n",
    "\n",
    "#buildings = scrape_fips_blocks(buildings)\n",
    "#lights = scrape_fips_blocks(lights)\n",
    "\n",
    "#buildings = scrape(buildings)\n",
    "#lights = srapce(lights)\n",
    "\n",
    "buildings = pd.read_pickle('buildings_acs.pkl')\n",
    "lights = pd.read_pickle('lights_acs.pkl')"
   ]
  }
 ],
 "metadata": {
  "anaconda-cloud": {},
  "kernelspec": {
   "display_name": "Python [default]",
   "language": "python",
   "name": "python3"
  },
  "language_info": {
   "codemirror_mode": {
    "name": "ipython",
    "version": 3
   },
   "file_extension": ".py",
   "mimetype": "text/x-python",
   "name": "python",
   "nbconvert_exporter": "python",
   "pygments_lexer": "ipython3",
   "version": "3.5.2"
  }
 },
 "nbformat": 4,
 "nbformat_minor": 2
}
