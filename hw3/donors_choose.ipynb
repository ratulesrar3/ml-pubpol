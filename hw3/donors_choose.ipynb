{
 "cells": [
  {
   "cell_type": "markdown",
   "metadata": {},
   "source": [
    "### Homework 3: Improving the Pipeline\n",
    "\n",
    "- Using outcomes and projects data from the donors choose database from 2011-2013\n",
    "- Predict if a project will get fully funded at the posting time of the project"
   ]
  },
  {
   "cell_type": "code",
   "execution_count": 1,
   "metadata": {},
   "outputs": [],
   "source": [
    "import warnings\n",
    "warnings.simplefilter('ignore')"
   ]
  },
  {
   "cell_type": "code",
   "execution_count": 2,
   "metadata": {},
   "outputs": [],
   "source": [
    "% run explore.py\n",
    "% run preprocess.py"
   ]
  },
  {
   "cell_type": "code",
   "execution_count": 3,
   "metadata": {},
   "outputs": [],
   "source": [
    "% run methods.py\n",
    "% run loop.py"
   ]
  },
  {
   "cell_type": "code",
   "execution_count": 4,
   "metadata": {},
   "outputs": [],
   "source": [
    "# wrangling the data\n",
    "def wrangle_data(start, end, date_col='date_posted',\n",
    "                 file1='data/projects.csv', file2='data/outcomes.csv',\n",
    "                 index='projectid', label='fully_funded'):\n",
    "    '''\n",
    "    Function to wrangle the dataset of interest\n",
    "    '''\n",
    "    start = datetime.strptime(start, '%Y-%m-%d')\n",
    "    end = datetime.strptime(end, '%Y-%m-%d')\n",
    "    \n",
    "    df1 = pd.read_csv(file1)\n",
    "    df2 = pd.read_csv(file2)\n",
    "    data = df1.merge(df2[[index, label]], on=index)\n",
    "    \n",
    "    data[date_col] = pd.to_datetime(data[date_col])\n",
    "    df = data[(data[date_col] >= start) & (data[date_col] <= end)]\n",
    "    df.to_pickle('data/joined2011_2013.pkl')\n",
    "    \n",
    "    return df"
   ]
  },
  {
   "cell_type": "code",
   "execution_count": 5,
   "metadata": {},
   "outputs": [],
   "source": [
    "# df = wrangle_data('2011-01-01', '2013-12-31')\n",
    "df = pd.read_pickle('data/joined2011_2013.pkl')"
   ]
  },
  {
   "cell_type": "code",
   "execution_count": 6,
   "metadata": {},
   "outputs": [],
   "source": [
    "res = temporal_validation_loop(df)"
   ]
  }
 ],
 "metadata": {
  "kernelspec": {
   "display_name": "Python [default]",
   "language": "python",
   "name": "python3"
  },
  "language_info": {
   "codemirror_mode": {
    "name": "ipython",
    "version": 3
   },
   "file_extension": ".py",
   "mimetype": "text/x-python",
   "name": "python",
   "nbconvert_exporter": "python",
   "pygments_lexer": "ipython3",
   "version": "3.5.2"
  }
 },
 "nbformat": 4,
 "nbformat_minor": 2
}
